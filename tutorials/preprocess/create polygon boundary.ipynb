{
 "cells": [
  {
   "cell_type": "code",
   "id": "initial_id",
   "metadata": {
    "collapsed": true,
    "ExecuteTime": {
     "end_time": "2025-08-02T07:01:09.621605Z",
     "start_time": "2025-08-02T07:01:08.786246Z"
    }
   },
   "source": [
    "import geopandas as gpd\n",
    "\n",
    "import shapely\n",
    "from shapely.geometry import Polygon, MultiPolygon"
   ],
   "outputs": [],
   "execution_count": 2
  },
  {
   "metadata": {
    "ExecuteTime": {
     "end_time": "2025-08-02T07:00:48.192917Z",
     "start_time": "2025-08-02T07:00:47.947424Z"
    }
   },
   "cell_type": "code",
   "source": "# create a polygon boundary\n",
   "id": "602c0eb5359c8caf",
   "outputs": [],
   "execution_count": 1
  },
  {
   "metadata": {},
   "cell_type": "code",
   "outputs": [],
   "execution_count": null,
   "source": [
    "from shapely.geometry import Polygon, MultiPolygon\n",
    "from typing import Union\n",
    "\n",
    "def shapely_to_poly_string(\n",
    "    geom: Union[Polygon, MultiPolygon],\n",
    "    name: str = \"poly_area\",\n",
    ") -> str:\n",
    "    \"\"\"\n",
    "    Convert a shapely Polygon or MultiPolygon to a .poly format string.\n",
    "\n",
    "    Parameters\n",
    "    ----------\n",
    "    geom : shapely.geometry.Polygon or MultiPolygon\n",
    "        The geometry to convert.\n",
    "    name : str\n",
    "        The name of the polygon area (first line in the .poly file).\n",
    "\n",
    "    Returns\n",
    "    -------\n",
    "    str\n",
    "        The content of the .poly file as a formatted string.\n",
    "    \"\"\"\n",
    "    if isinstance(geom, Polygon):\n",
    "        polygons = [geom]\n",
    "    elif isinstance(geom, MultiPolygon):\n",
    "        polygons = list(geom.geoms)\n",
    "    else:\n",
    "        raise TypeError(\"Input must be a Polygon or MultiPolygon\")\n",
    "\n",
    "    IND1 = \" \" * 4         # indent for ring label (e.g., 1, !1_1)\n",
    "    IND2 = \" \" * (4 * 2)   # indent for coordinates\n",
    "\n",
    "    lines = [name]\n",
    "\n",
    "    for i, poly in enumerate(polygons, start=1):\n",
    "        # Outer ring\n",
    "        lines.append(f\"{IND1}polygon_{i}\")\n",
    "        coords = list(poly.exterior.coords)\n",
    "\n",
    "        if coords[0] != coords[-1]:\n",
    "            # ensure ring is closed\n",
    "            coords.append(coords[0])\n",
    "\n",
    "        for x, y in coords:\n",
    "            # 1.1 millimeters\n",
    "            lines.append(f\"{IND2}{x:.8f} {y:.8f}\")\n",
    "\n",
    "        lines.append(f\"{IND1}END\")\n",
    "\n",
    "        # Holes (interiors)\n",
    "        for j, hole in enumerate(poly.interiors, start=1):\n",
    "\n",
    "            lines.append(f\"{IND1}!polygon_{i}_hole_{j}\")\n",
    "            hole_coords = list(hole.coords)\n",
    "\n",
    "            if hole_coords[0] != hole_coords[-1]:\n",
    "                hole_coords.append(hole_coords[0])\n",
    "\n",
    "            for x, y in hole_coords:\n",
    "                lines.append(f\"{IND2}{x:.8f} {y:.8f}\")\n",
    "            lines.append(f\"{IND1}END\")\n",
    "\n",
    "    lines.append(\"END\")\n",
    "    return \"\\n\".join(lines)"
   ],
   "id": "75ae2d2062ed3886"
  }
 ],
 "metadata": {
  "kernelspec": {
   "display_name": "Python 3",
   "language": "python",
   "name": "python3"
  },
  "language_info": {
   "codemirror_mode": {
    "name": "ipython",
    "version": 2
   },
   "file_extension": ".py",
   "mimetype": "text/x-python",
   "name": "python",
   "nbconvert_exporter": "python",
   "pygments_lexer": "ipython2",
   "version": "2.7.6"
  }
 },
 "nbformat": 4,
 "nbformat_minor": 5
}
