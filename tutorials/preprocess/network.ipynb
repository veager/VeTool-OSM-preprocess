{
 "cells": [
  {
   "metadata": {},
   "cell_type": "code",
   "source": [
    "import time\n",
    "import copy\n",
    "import pathlib\n",
    "\n",
    "import tqdm\n",
    "import networkx as nx\n",
    "import osmnx as ox\n",
    "import pandas as pd\n",
    "import geopandas as gpd\n",
    "\n",
    "import shapely.geometry\n",
    "\n",
    "import sys\n",
    "sys.path.insert(0, r'C:\\Users\\Wei Zhou\\Documents\\zhouwei file\\Github-Project\\VeTool-Processing-OSM')\n",
    "from code_utils.utils_basic import PROJECT_PATH, PROJECTED_CRS\n",
    "from code_utils.network_process.network_diagnosis import print_graph_info"
   ],
   "outputs": [],
   "execution_count": null
  },
  {
   "metadata": {},
   "cell_type": "markdown",
   "source": "# 1. Load data"
  },
  {
   "metadata": {},
   "cell_type": "markdown",
   "source": "#### (1) Load boundary"
  },
  {
   "metadata": {},
   "cell_type": "code",
   "source": [
    "import sys\n",
    "sys.path.insert(0, r'C:\\Users\\Wei Zhou\\Documents\\zhouwei file\\Github-Project\\VeTool-sgdatabase_utils')\n",
    "import sgdatabase_utils.load_data.load_database_datasets as loaddb\n",
    "\n",
    "# load boundary\n",
    "boundary = loaddb.load_zone_geometry('boundary', year=2019, with_sea=True)\n",
    "print('CRS of boundary:', boundary.crs)\n",
    "boundary = boundary.geometry[0]"
   ],
   "outputs": [],
   "execution_count": null
  },
  {
   "metadata": {},
   "cell_type": "markdown",
   "source": "#### Load walking network by using `OSMnx`"
  },
  {
   "metadata": {},
   "cell_type": "code",
   "source": [
    "import osmnx\n",
    "if 'crossing' not in osmnx.settings.useful_tags_way:\n",
    "    osmnx.settings.useful_tags_way.append('crossing')\n",
    "print(osmnx.settings.useful_tags_way)"
   ],
   "outputs": [],
   "execution_count": null
  },
  {
   "metadata": {},
   "cell_type": "code",
   "source": [
    "# Extract walking network from OSM data\n",
    "# Require about 2 min\n",
    "filepath = PROJECT_PATH / 'data/osm map/network_walking.osm'\n",
    "network = ox.graph.graph_from_xml(\n",
    "    filepath, \n",
    "    bidirectional = True, \n",
    "    simplify = True, \n",
    "    retain_all = True, \n",
    "    encoding = 'utf-8')\n",
    "# Return type: MultiDiGraph\n",
    "# Node attributes: ['node', 'y', 'x', 'highway', 'ref', 'junction', 'railway']\n",
    "# Edge attributes: [\n",
    "#   'source', 'target', 'osmid', 'highway', 'lanes', 'maxspeed', 'name',\n",
    "#   'oneway', 'ref', 'reversed', 'length', 'bridge', 'geometry', 'length_m',\n",
    "#   'tunnel', 'access', 'service', 'junction', 'width', 'crossing',\n",
    "#   'est_width', 'area']\n",
    "# node attributes ('x', 'y') indicating the geographic coordinates (i.e., longitude and latitude)\n",
    "# edge attributes: ('geometry'), some edges may miss geometry attribute\n",
    "print_graph_info(network)"
   ],
   "outputs": [],
   "execution_count": null
  },
  {
   "metadata": {},
   "cell_type": "markdown",
   "source": "# 2. Preprocess the network topology"
  },
  {
   "metadata": {},
   "cell_type": "code",
   "outputs": [],
   "execution_count": null,
   "source": [
    "from code_utils.network_process.osm_network_preprocess import (\n",
    "    remove_nodes_outside_boundary,\n",
    "    reproject_network_geometry,\n",
    "    collapse_multidigraph_to_graph,\n",
    "    process_isolated_nodes,\n",
    "    graph_to_geodataframe)"
   ]
  },
  {
   "metadata": {},
   "cell_type": "markdown",
   "source": [
    "#### (1) Clip nodes by boundary\n",
    "\n",
    "Extract graph nodes within specified boundary.\n",
    "\n",
    "- Consider the nodes' coordinates (usually specify by their attributes `x`, `y`) from the OSM data are usually in geographic coordinates (i.e., latitude and longitude, WGS84 system, EPSG:4326). Their coordinates are reprojected to a projected CRS (specify by parameter `projected_crs`) before clipping the nodes by the boundary.\n",
    "\n",
    "- This function will NOT change the nodes' coordinates, but only remove the nodes outside the boundary."
   ]
  },
  {
   "metadata": {},
   "cell_type": "code",
   "outputs": [],
   "execution_count": null,
   "source": [
    "# Clip nodes by boundary\n",
    "network = remove_nodes_outside_boundary(\n",
    "    network,\n",
    "    projected_crs = PROJECTED_CRS,\n",
    "    boundary = boundary,\n",
    "    node_attr_x = 'x',\n",
    "    node_attr_y = 'y',\n",
    "    source_crs = 'EPSG:4326',)\n",
    "print('Clip network nodes by boundary')\n",
    "print_graph_info(network)"
   ]
  },
  {
   "metadata": {},
   "cell_type": "markdown",
   "source": [
    "#### (2) Reproject network\n",
    "\n",
    "1. Reproject nodes and edges to a projected CRS (argument `projected_crs`)\n",
    "2. Add straight-line length for edges missing geometry (argument `edge_attr_geom`) attribute\n",
    "3. Compute edge length in meters and add associated attribute (argument `edge_attr_len`)\n"
   ]
  },
  {
   "metadata": {},
   "cell_type": "code",
   "outputs": [],
   "execution_count": null,
   "source": [
    "# Reproject the network\n",
    "network = reproject_network_geometry(\n",
    "    network,\n",
    "    source_crs = 'EPSG:4326',\n",
    "    projected_crs = PROJECTED_CRS,\n",
    "    edge_attr_geom = 'geometry',\n",
    "    edge_attr_len = 'length_m',\n",
    "    edge_non_geom_add = True,     # Add straight-line for edges missing geometry\n",
    "    node_attr_x = \"x\",\n",
    "    node_attr_y = \"y\",\n",
    "    node_attr_proj_x = \"proj_x\",\n",
    "    node_attr_proj_y = \"proj_y\",\n",
    "    node_non_geom_remove = True,  # Remove node missing valid coordinates)\n",
    ")\n",
    "print('Reproject network')\n",
    "print_graph_info(network)"
   ]
  },
  {
   "metadata": {},
   "cell_type": "markdown",
   "source": [
    "#### (4) Collapse to undirected graph\n",
    "\n",
    "1. Using the minimum length for edges with the same start and end node\n",
    "2. Remove self-loops edges (same start and end node)"
   ]
  },
  {
   "metadata": {},
   "cell_type": "code",
   "outputs": [],
   "execution_count": null,
   "source": [
    "network = collapse_multidigraph_to_graph(\n",
    "    network,\n",
    "    weight = \"length_m\"\n",
    ")\n",
    "print('Collapse to undirected graph')\n",
    "print_graph_info(network)"
   ]
  },
  {
   "metadata": {},
   "cell_type": "markdown",
   "source": [
    "#### (5) Connect isolated nodes to network\n",
    "\n",
    "1. Connect isolated nodes to the network nodes based on a threshold distance (argument `threshold`).\n"
   ]
  },
  {
   "metadata": {},
   "cell_type": "code",
   "outputs": [],
   "execution_count": null,
   "source": [
    "# Connect isolated nodes to network\n",
    "network = process_isolated_nodes(\n",
    "    network,\n",
    "    threshold = 100.,         # threshold distance for isolated nodes\n",
    "    node_attr_x = 'proj_x',\n",
    "    node_attr_y = 'proj_y',\n",
    "    edge_attr_geom = 'geometry',\n",
    "    edge_attr_len = 'length_m'\n",
    ")\n",
    "print('Connect isolated nodes to network')\n",
    "print_graph_info(network)"
   ]
  },
  {
   "metadata": {},
   "cell_type": "code",
   "outputs": [],
   "execution_count": null,
   "source": [
    "# update node ids:\n",
    "mapper = {n: f\"W_{n}\" for n in network.nodes()}\n",
    "network = nx.relabel_nodes(network, mapper)\n",
    "print_graph_info(network)"
   ]
  },
  {
   "metadata": {},
   "cell_type": "markdown",
   "source": "# 3. Preprocess the network node and edge attributes"
  },
  {
   "metadata": {},
   "cell_type": "markdown",
   "source": "#### Clear edge attribute values"
  },
  {
   "metadata": {},
   "cell_type": "code",
   "source": [
    "def get_edge_attribute_value(attr_value):\n",
    "\n",
    "    if isinstance(attr_value, list):\n",
    "        attr_value = ','.join(attr_value)\n",
    "    elif isinstance(attr_value, str):\n",
    "        attr_value = attr_value\n",
    "    else:\n",
    "        print('Error for', attr_value)\n",
    "        attr_value = None\n",
    "\n",
    "    return attr_value"
   ],
   "outputs": [],
   "execution_count": null
  },
  {
   "metadata": {},
   "cell_type": "code",
   "source": [
    "# 'crossing'\n",
    "for u, v, attrs in tqdm.tqdm(network.edges(data=True), desc='Update edge attributes'):\n",
    "    # update 'highway'\n",
    "    attr_li = list(attrs.keys())\n",
    "\n",
    "    attr_name = 'highway'\n",
    "    if attr_name in attr_li:\n",
    "        attr_value = get_edge_attribute_value(attrs[attr_name])\n",
    "        attrs[attr_name] = attr_value.split(',')[0]\n",
    "    else:\n",
    "        attrs[attr_name] = 'unknown'\n",
    "\n",
    "    attr_name = 'crossing'\n",
    "    if attr_name in attr_li:\n",
    "        attr_crossing = get_edge_attribute_value(attrs[attr_name])\n",
    "        attrs[attr_name] = 'signal' if ('signal' in attr_crossing) else 'crossing'\n",
    "    else:\n",
    "        attrs[attr_name] = 'unknown'\n",
    "\n",
    "    for attr_name in ['bridge', 'tunnel']:\n",
    "        if attr_name in attr_li:\n",
    "            attr_value = get_edge_attribute_value(attrs[attr_name])\n",
    "            attrs[attr_name] = 'no' if ('no' in attr_value) else 'yes'\n",
    "        else:\n",
    "            attrs[attr_name] = 'unknown'"
   ],
   "outputs": [],
   "execution_count": null
  },
  {
   "metadata": {},
   "cell_type": "markdown",
   "source": "#### (2) Remove unnecessary node and edge attributes"
  },
  {
   "metadata": {},
   "cell_type": "code",
   "source": [
    "from code_utils.network_process.network_preprocess import (\n",
    "    remove_node_edge_attrs, remove_edge_by_attr_value)"
   ],
   "outputs": [],
   "execution_count": null
  },
  {
   "metadata": {},
   "cell_type": "code",
   "outputs": [],
   "execution_count": null,
   "source": [
    "# remove unnecessary attributes\n",
    "remove_node_attr = [\n",
    "    'ref', 'junction', 'railway']\n",
    "remove_edge_attr = [\n",
    "    'osmid', 'width', 'est_width', 'service', 'reversed', 'osm_id', 'access', 'maxspeed', 'oneway', 'ref', 'length', 'area', 'lanes']\n",
    "\n",
    "\n",
    "# Remove node and edge attributes\n",
    "network = remove_node_edge_attrs(\n",
    "    network,\n",
    "    node_attrs = remove_node_attr,\n",
    "    edge_attrs = remove_edge_attr)\n",
    "\n",
    "\n",
    "# Remove edges with specific highway types\n",
    "remove_edge_attr = ['motorway', 'motorway_link', 'trunk', 'trunk_link']\n",
    "network = remove_edge_by_attr_value(\n",
    "    network,\n",
    "    attr_name = 'highway',\n",
    "    attr_values = remove_edge_attr,\n",
    "    remove_isolated_nodes = True)"
   ]
  },
  {
   "metadata": {},
   "cell_type": "markdown",
   "source": "#### (3) Convert network to GeoDataFrame"
  },
  {
   "metadata": {},
   "cell_type": "code",
   "source": [
    "node_gdf, edge_gdf = graph_to_geodataframe(\n",
    "    network,\n",
    "    node_attr_x = 'proj_x',\n",
    "    node_attr_y = 'proj_y',\n",
    "    edge_attr_geom = 'geometry',\n",
    "    crs = PROJECTED_CRS)"
   ],
   "outputs": [],
   "execution_count": null
  },
  {
   "metadata": {},
   "cell_type": "markdown",
   "source": "#### (4) Save network as GraphML"
  },
  {
   "metadata": {},
   "cell_type": "code",
   "source": [
    "from code_utils.network_process.osm_network_preprocess import convert_network_geometry_attr_to_wkt\n",
    "\n",
    "# Convert network \"geometry\" attributes to WKT format\n",
    "network = convert_network_geometry_attr_to_wkt(\n",
    "    network, node_attr = None, edge_attr = 'geometry')"
   ],
   "outputs": [],
   "execution_count": null
  },
  {
   "metadata": {},
   "cell_type": "code",
   "outputs": [],
   "execution_count": null,
   "source": [
    "# Save shapefile\n",
    "node_gdf.to_file(PROJECT_PATH / 'shape_file/nodes.shp')\n",
    "edge_gdf.to_file(PROJECT_PATH / 'shape_file/edges.shp')\n",
    "\n",
    "\n",
    "# Save graph\n",
    "nx.write_graphml(network,\n",
    "    PROJECT_PATH / 'walking.graphml')"
   ]
  }
 ],
 "metadata": {
  "kernelspec": {
   "display_name": "Python 3",
   "language": "python",
   "name": "python3"
  },
  "language_info": {
   "codemirror_mode": {
    "name": "ipython",
    "version": 2
   },
   "file_extension": ".py",
   "mimetype": "text/x-python",
   "name": "python",
   "nbconvert_exporter": "python",
   "pygments_lexer": "ipython2",
   "version": "2.7.6"
  }
 },
 "nbformat": 4,
 "nbformat_minor": 0
}
