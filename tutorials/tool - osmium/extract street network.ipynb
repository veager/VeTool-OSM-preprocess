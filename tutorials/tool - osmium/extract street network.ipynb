{
 "cells": [
  {
   "metadata": {},
   "cell_type": "markdown",
   "source": "osmosis tool filter OSM elements",
   "id": "b2e5d802b8d60a0c"
  },
  {
   "metadata": {},
   "cell_type": "markdown",
   "source": "# 1 Filter by boundary",
   "id": "d49d899eefb83734"
  },
  {
   "metadata": {},
   "cell_type": "markdown",
   "source": [
    "```shell\n",
    "cd C:\\zhouweifile\\Transportation Data\\New York Dataset\\OSM\n",
    "\n",
    "% extract newyork city\n",
    "osmosis ^\n",
    "    --read-pbf file=\"us-northeast-2023-02-14.osm.pbf\" ^\n",
    "    --bounding-polygon file=\"new-york-city-boundary-wgs84.poly\" completeWays=yes completeRelations=no ^\n",
    "    --write-pbf file=\"new-york-city-2023-02-14.osm.pbf\"\n",
    "```"
   ],
   "id": "ed24e7c0cdaadd94"
  },
  {
   "metadata": {},
   "cell_type": "markdown",
   "source": "# 2. Convert data file",
   "id": "ddb2be82d78cec87"
  },
  {
   "metadata": {},
   "cell_type": "markdown",
   "source": [
    "```shell\n",
    "% convert data file\n",
    "osmosis  --read-pbf new-york-city-2023-02-14.osm.pbf --write-xml new-york-city-2023-02-14.osm\n",
    "```"
   ],
   "id": "63fe455f88e2dda"
  },
  {
   "metadata": {},
   "cell_type": "markdown",
   "source": "# 3 Extract road network",
   "id": "8299afa7b5250608"
  },
  {
   "metadata": {},
   "cell_type": "markdown",
   "source": [
    "```\n",
    "% 'drive' network\n",
    "[\"highway\"]\n",
    "[\"area\"!~\"yes\"]\n",
    "[\"access\"!~\"private\"]\n",
    "[\"highway\"!~\"abandoned|bridleway|bus_guideway|construction|corridor|cycleway|elevator|escalator|footway|path|pedestrian|planned|platform|proposed|raceway|service|steps|track\"]\n",
    "[\"motor_vehicle\"!~\"no\"]\n",
    "[\"motorcar\"!~\"no\"]\n",
    "[\"service\"!~\"alley|driveway|emergency_access|parking|parking_aisle|private\"]\n",
    "```\n",
    "\n",
    "```shell\n",
    "% 'drive' network\n",
    "osmosis  ^\n",
    "    --read-pbf file=\"new-york-city-2023-02-14.osm.pbf\" ^\n",
    "    --tf accept-ways highway=* ^\n",
    "    --tf reject-ways area=yes ^\n",
    "    --tf reject-ways access=private ^\n",
    "    --tf reject-ways highway=bandoned,bridleway,bus_guideway,construction,corridor,cycleway,elevator,escalator,footway,path,pedestrian,planned,platform,proposed,raceway,service,steps,track ^\n",
    "    --tf reject-ways motor_vehicle=no ^\n",
    "    --tf reject-ways motorcar=no ^\n",
    "    --tf reject-ways service=alley,driveway,emergency_access,parking,parking_aisle,private ^\n",
    "    --write-xml new-york-city-2023-02-14-network-drive.osm\n",
    "```"
   ],
   "id": "1f38058c231eb0ed"
  },
  {
   "metadata": {},
   "cell_type": "markdown",
   "source": "# 4. Extract building",
   "id": "2e86044202c8e241"
  },
  {
   "metadata": {},
   "cell_type": "markdown",
   "source": [
    "```shell\n",
    "% extract buliding\n",
    "osmosis ^\n",
    "    --read-pbf file=\"new-york-city-2023-02-14.osm.pbf\" ^\n",
    "    --tag-filter ^\n",
    "    accept-ways building=* ^\n",
    "    --write-xml file=\"buliding-osm-2023-02-14.osm\"\n",
    "```"
   ],
   "id": "d61c5d891c7ff998"
  }
 ],
 "metadata": {
  "kernelspec": {
   "display_name": "Python 3",
   "language": "python",
   "name": "python3"
  },
  "language_info": {
   "codemirror_mode": {
    "name": "ipython",
    "version": 2
   },
   "file_extension": ".py",
   "mimetype": "text/x-python",
   "name": "python",
   "nbconvert_exporter": "python",
   "pygments_lexer": "ipython2",
   "version": "2.7.6"
  }
 },
 "nbformat": 4,
 "nbformat_minor": 5
}
