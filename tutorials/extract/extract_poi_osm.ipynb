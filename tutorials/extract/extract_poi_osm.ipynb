{
 "cells": [
  {
   "metadata": {},
   "cell_type": "markdown",
   "source": [
    "Extract monthly `.osm.pbf` files \n",
    "\n",
    "install `osmium-tool` \n",
    "\n",
    "```shell\n",
    "conda install osmium-tool\n",
    "```\n",
    "\n",
    "```shell\n",
    "activate py310geo\n",
    "\n",
    "cd \"C:\\Users\\Wei Zhou\\OneDrive - National University of Singapore\\Pesearch Project\\Traffic dataset\\Open street map\\OSM Singapore\"\n",
    "\n",
    "for %y in (2020, 2021, 2022, 2023) do (\n",
    "\tfor %m in (01, 02, 03, 04, 05, 06, 07, 08, 09, 10, 11, 12) do (\n",
    "\t    ECHO \"Extracting temporal OSM data for %y-%m\"    \n",
    "\t    osmium time-filter ^\n",
    "\t        -o \"extract\\malaysia-singapore-brunei-%y-%m-28.osm.pbf\" ^\n",
    "\t        \"osm-raw-data-sg\\malaysia-singapore-brunei-internal-2024-10-28.osh.pbf\" ^\n",
    "\t        %y-%m-28T00:00:00Z\n",
    "\t    \n",
    "\t    ECHO \"Extracting OSM data within the boundary\"\n",
    "\t    osmium extract ^\n",
    "\t        -p \"osm-raw-data-sg\\MP2019-boundary-with-sea.poly\" ^\n",
    "\t        -o \"extract\\singapore_%y-%m-28.osm.pbf\" ^\n",
    "\t        -s complete_ways ^\n",
    "\t        \"extract\\malaysia-singapore-brunei-%y-%m-28.osm.pbf\"\n",
    "\t)\n",
    ")\n",
    "```"
   ],
   "id": "b439f93fd74cc487"
  },
  {
   "metadata": {
    "ExecuteTime": {
     "end_time": "2024-11-01T07:33:21.525023Z",
     "start_time": "2024-11-01T07:33:19.982696Z"
    }
   },
   "cell_type": "code",
   "source": [
    "import pathlib\n",
    "\n",
    "import pyrosm\n",
    "import tqdm"
   ],
   "id": "f824413a69045c69",
   "outputs": [],
   "execution_count": 1
  },
  {
   "metadata": {
    "ExecuteTime": {
     "end_time": "2024-11-01T07:33:21.555264Z",
     "start_time": "2024-11-01T07:33:21.530659Z"
    }
   },
   "cell_type": "code",
   "source": [
    "osm_folder = r'C:\\Users\\Wei Zhou\\OneDrive - National University of Singapore\\Pesearch Project\\Traffic dataset\\Open street map\\OSM Singapore\\extract'\n",
    "osm_path_li = pathlib.Path(osm_folder).glob('*.osm.pbf')\n",
    "osm_path_li = [p.absolute() for p in osm_path_li]"
   ],
   "id": "8117e234da20dad1",
   "outputs": [],
   "execution_count": 2
  },
  {
   "metadata": {
    "ExecuteTime": {
     "end_time": "2024-11-01T08:01:15.360637Z",
     "start_time": "2024-11-01T07:33:21.559320Z"
    }
   },
   "cell_type": "code",
   "source": [
    "data_all = []\n",
    "\n",
    "for osm_path in tqdm.tqdm(osm_path_li, total=len(osm_path_li), desc='Extracting POIs:'):\n",
    "    # initialize the OSM object\n",
    "    osm_map = pyrosm.OSM(str(osm_path))\n",
    "    # get all POIs\n",
    "    # default poi types: ['amenity', 'shop', 'tourism']\n",
    "    tags_filter = {'amenity': True, 'shop': True, 'tourism': True, 'leisure': True}\n",
    "    pois = osm_map.get_pois(tags_filter)\n",
    "    # selected necessary columns\n",
    "    pois = pois[['id', 'osm_type', 'addr:postcode', 'addr:street', 'geometry'] + list(tags_filter.keys())]\n",
    "    # save the data\n",
    "    _dt = osm_path.stem.replace('singapore_', '').replace('.osm', '')\n",
    "    pois.to_file(f'data/osm_poi_{_dt}.geojson', driver='GeoJSON')\n",
    "# data_all = pd.concat(data_all, ignore_index=True, axis=0)"
   ],
   "id": "bcbaf11ba8da94a1",
   "outputs": [
    {
     "name": "stderr",
     "output_type": "stream",
     "text": [
      "Extracting POIs:: 100%|██████████| 48/48 [27:53<00:00, 34.87s/it]\n"
     ]
    }
   ],
   "execution_count": 3
  }
 ],
 "metadata": {
  "kernelspec": {
   "display_name": "Python 3",
   "language": "python",
   "name": "python3"
  },
  "language_info": {
   "codemirror_mode": {
    "name": "ipython",
    "version": 2
   },
   "file_extension": ".py",
   "mimetype": "text/x-python",
   "name": "python",
   "nbconvert_exporter": "python",
   "pygments_lexer": "ipython2",
   "version": "2.7.6"
  }
 },
 "nbformat": 4,
 "nbformat_minor": 5
}
