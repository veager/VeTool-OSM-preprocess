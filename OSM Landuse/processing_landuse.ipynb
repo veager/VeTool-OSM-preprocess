{
 "cells": [
  {
   "cell_type": "code",
   "id": "initial_id",
   "metadata": {
    "collapsed": true,
    "ExecuteTime": {
     "end_time": "2024-05-02T07:41:35.029263Z",
     "start_time": "2024-05-02T07:41:35.003171Z"
    }
   },
   "source": [
    "import pandas as pd\n",
    "import geopandas as gpd\n",
    "\n",
    "import pyproj\n",
    "crs_projected = pyproj.crs.CRS('EPSG:32650')\n",
    "assert crs_projected.is_projected\n",
    "\n",
    "import processing_landuse as prolu"
   ],
   "outputs": [],
   "execution_count": 7
  },
  {
   "metadata": {},
   "cell_type": "markdown",
   "source": "#### (1) Read and process OSM landuse data",
   "id": "f82b5797a782424b"
  },
  {
   "metadata": {
    "ExecuteTime": {
     "end_time": "2024-05-02T07:37:16.579020Z",
     "start_time": "2024-05-02T07:36:17.829627Z"
    }
   },
   "cell_type": "code",
   "source": [
    "path = r'test_data/landuse.zip!landuse_OSM_original.shp'\n",
    "landuse_osm = gpd.read_file(path)\n",
    "assert landuse_osm.crs.equals(crs_projected)\n",
    "\n",
    "# map osm tags to EULUC landuse types\n",
    "landuse_osm = prolu.extract_osm_landuse(landuse_osm)\n",
    "# merge EULUC landuse types\n",
    "landuse_osm = prolu.merge_landuse_type(landuse_osm, landuse_cols=['landuse', 'amenity', 'leisure', 'natural'])\n",
    "\n",
    "# landuse_osm.to_file('test_data/landuse_osm_processed')"
   ],
   "id": "4dedd576c5ac7350",
   "outputs": [
    {
     "name": "stdout",
     "output_type": "stream",
     "text": [
      "OSM mapped tags: C:\\zhouweifile\\Github-Project\\VeTool-Processing-POI-Landuse\\OSM tags\\tag_processing.xlsx\n",
      "Processing the land use column 'landuse'...\n",
      "Processing the land use column 'amenity'...\n",
      "Processing the land use column 'leisure'...\n",
      "Processing the land use column 'natural'...\n"
     ]
    }
   ],
   "execution_count": 2
  },
  {
   "metadata": {},
   "cell_type": "markdown",
   "source": "#### (2) Read EULUC landuse data",
   "id": "5761c13eb197e766"
  },
  {
   "metadata": {
    "ExecuteTime": {
     "end_time": "2024-05-02T07:40:45.346353Z",
     "start_time": "2024-05-02T07:40:43.454332Z"
    }
   },
   "cell_type": "code",
   "source": [
    "path = r'test_data/landuse.zip!landuse_EULUC2018.shp'\n",
    "landuse_euluc = gpd.read_file(path)\n",
    "assert landuse_euluc.crs.equals(crs_projected)"
   ],
   "id": "9e6f2a7a4e08f59e",
   "outputs": [],
   "execution_count": 5
  },
  {
   "metadata": {},
   "cell_type": "markdown",
   "source": "#### (3) Merge OSM and EULUC landuse data",
   "id": "121c55d59dde75d"
  },
  {
   "metadata": {
    "ExecuteTime": {
     "end_time": "2024-05-02T07:47:59.483557Z",
     "start_time": "2024-05-02T07:43:39.972955Z"
    }
   },
   "cell_type": "code",
   "source": [
    "assert landuse_euluc.crs.is_projected\n",
    "assert landuse_euluc.crs.equals(landuse_osm.crs)\n",
    "\n",
    "landuse_merged = pd.concat([landuse_euluc.rename(columns={'landuse': 'landuse_euluc'}),\n",
    "                            landuse_osm.rename(columns={'landuse': 'landuse_osm'})], axis=0)\n",
    "\n",
    "landuse_merged = prolu.merge_landuse_type(landuse_merged, landuse_cols=['landuse_euluc', 'landuse_osm'])\n",
    "\n",
    "# landuse_merged.to_file('test_data/landuse_merged.shp')"
   ],
   "id": "28c4059e709b7889",
   "outputs": [
    {
     "name": "stdout",
     "output_type": "stream",
     "text": [
      "Processing the land use column 'landuse_euluc'...\n",
      "Processing the land use column 'landuse_osm'...\n"
     ]
    }
   ],
   "execution_count": 12
  },
  {
   "metadata": {
    "ExecuteTime": {
     "end_time": "2024-05-02T07:48:53.602305Z",
     "start_time": "2024-05-02T07:48:50.149015Z"
    }
   },
   "cell_type": "code",
   "source": "",
   "id": "d8119fa97390740f",
   "outputs": [],
   "execution_count": 14
  },
  {
   "metadata": {},
   "cell_type": "code",
   "outputs": [],
   "execution_count": null,
   "source": "",
   "id": "df22ed4a819140ee"
  }
 ],
 "metadata": {
  "kernelspec": {
   "display_name": "Python 3",
   "language": "python",
   "name": "python3"
  },
  "language_info": {
   "codemirror_mode": {
    "name": "ipython",
    "version": 2
   },
   "file_extension": ".py",
   "mimetype": "text/x-python",
   "name": "python",
   "nbconvert_exporter": "python",
   "pygments_lexer": "ipython2",
   "version": "2.7.6"
  }
 },
 "nbformat": 4,
 "nbformat_minor": 5
}
