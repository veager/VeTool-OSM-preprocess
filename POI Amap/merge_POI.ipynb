{
 "cells": [
  {
   "cell_type": "code",
   "execution_count": 55,
   "id": "fde1c2ed-2f3b-4756-a965-8e65260f856e",
   "metadata": {},
   "outputs": [],
   "source": [
    "import os\n",
    "import io\n",
    "import zipfile\n",
    "\n",
    "import numpy as np\n",
    "import pandas as pd\n",
    "import geopandas as gpd"
   ]
  },
  {
   "cell_type": "code",
   "execution_count": 56,
   "id": "427d5688-94bf-4797-9ec2-9f0b5c922937",
   "metadata": {
    "tags": []
   },
   "outputs": [
    {
     "name": "stdout",
     "output_type": "stream",
     "text": [
      "\n",
      " Number of points belonging to multiple categories: \n",
      " POI_type_merge\n",
      "1    339879\n",
      "2      3924\n",
      "3        61\n",
      "Name: count, dtype: int64\n",
      "\n",
      " Number of points belonging to multiple category levels: \n",
      " POI_type_merge\n",
      "3    343864\n",
      "Name: count, dtype: int64\n"
     ]
    }
   ],
   "source": [
    "zip_path = 'Chengdu Amap POI GCJ02 2017.zip'\n",
    "\n",
    "\n",
    "data_all = []\n",
    "\n",
    "with zipfile.ZipFile(zip_path) as zf:\n",
    "    file_list = zf.namelist()\n",
    "    file_list = list(filter(lambda x : x.endswith('.xlsx'), file_list))\n",
    "    \n",
    "    for file_name in file_list:\n",
    "        data = zf.open(file_name)\n",
    "        data = pd.read_excel(data, \n",
    "                             header = 0,\n",
    "                             usecols = ['name', 'type', 'address', 'lng', 'lat', 'province', 'city', 'district'])\n",
    "        \n",
    "        data_all.append(data)\n",
    "    \n",
    "data_all = pd.concat(data_all, axis=0, ignore_index=True)\n",
    "data_all = data_all.rename(columns={'lng' : 'GCJ02_lng', 'lat' : 'GCJ02_lat'})\n",
    "\n",
    "\n",
    "# Some point belong to multiple categories, split by \"|\"\n",
    "data_all['POI_type_merge'] = data_all['type'].str.split('|')\n",
    "print('\\n Number of points belonging to multiple categories: \\n',\n",
    "      data_all['POI_type_merge'].apply(len).value_counts())\n",
    "\n",
    "\n",
    "# Only use the first category, three category level\n",
    "data_all['POI_type_merge'] = data_all['POI_type_merge'].str.get(0).str.split(';')\n",
    "\n",
    "\n",
    "# Category level\n",
    "print('\\n Number of points belonging to multiple category levels: \\n',\n",
    "      data_all['POI_type_merge'].apply(len).value_counts())\n",
    "\n",
    "\n",
    "# Three category level\n",
    "data_all['POI_type_1'] = data_all['POI_type_merge'].str.get(0)\n",
    "data_all['POI_type_2'] = data_all['POI_type_merge'].str.get(1)\n",
    "data_all['POI_type_3'] = data_all['POI_type_merge'].str.get(2)\n",
    "\n",
    "data_all = data_all.drop(['POI_type_merge'], axis=1)\n",
    "data_all.to_csv('Chengdu_Amap_POI_GCJ02_2017.csv', index=False)"
   ]
  },
  {
   "cell_type": "code",
   "execution_count": 38,
   "id": "800e2a39-4ee1-43f5-a0b9-7a6a93427298",
   "metadata": {
    "tags": []
   },
   "outputs": [],
   "source": [
    "poi_type = data_all['type'].drop_duplicates() \\\n",
    "                           .reset_index(drop=True) \\\n",
    "                           .str.split('|')"
   ]
  }
 ],
 "metadata": {
  "kernelspec": {
   "display_name": "Python 3 (ipykernel)",
   "language": "python",
   "name": "python3"
  },
  "language_info": {
   "codemirror_mode": {
    "name": "ipython",
    "version": 3
   },
   "file_extension": ".py",
   "mimetype": "text/x-python",
   "name": "python",
   "nbconvert_exporter": "python",
   "pygments_lexer": "ipython3",
   "version": "3.9.16"
  }
 },
 "nbformat": 4,
 "nbformat_minor": 5
}
