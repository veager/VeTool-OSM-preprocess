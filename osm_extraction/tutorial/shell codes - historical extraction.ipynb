{
 "cells": [
  {
   "metadata": {},
   "cell_type": "markdown",
   "source": [
    "Use osmium-tools in Python environment to extract OSM data (.osm.pdf) from historical OSM data (.osh.pdf)\n",
    "\n",
    "\n",
    "- download historical OSM file (.osh.pdf) through OpenStreetMap internal server at [site](https://osm-internal.download.geofabrik.de//index.html)\n",
    "\n",
    "    - [OpenStreetMap Data Extracts](https://download.geofabrik.de/) -> \"Extracts with full metadata\"\n"
   ],
   "id": "5fbc3e77b0f8a411"
  },
  {
   "metadata": {},
   "cell_type": "markdown",
   "source": [
    "```shell\n",
    "osmium time-filter ^ \n",
    "    -o \"us-northeast_2016_12_31.osm.pbf\" ^ \n",
    "    \"original\\us-northeast-internal-2024-10-10.osh.pbf\" ^\n",
    "    2016-12-31T00:00:00Z\n",
    "\n",
    "osmium extract ^\n",
    "    -p \"boundary\\new-york-city-boundary-wgs84.poly\" ^\n",
    "    -o \"nyc_2019-12-31.osm.pbf\" ^\n",
    "    -s complete_ways ^\n",
    "    \"us-northeast_2019-12-31.osm.pbf\" \n",
    "```"
   ],
   "id": "a4c6bde1739c0d86"
  },
  {
   "metadata": {},
   "cell_type": "markdown",
   "source": [
    "```shell\n",
    "activate py310geo\n",
    "cd \"C:\\Users\\Wei Zhou\\OneDrive - National University of Singapore\\Pesearch Project\\Traffic dataset\\Open street map\\OSM US NYC\\osm\"\n",
    "\n",
    "for %y in (2010, 2011, 2012, 2013, 2014, 2015, 2016, 2017, 2018, 2019, 2020, 2021, 2022, 2023, 2024) do (\n",
    "    \n",
    "    ECHO \"Extracting temporal OSM data for year %y\"    \n",
    "    osmium time-filter ^\n",
    "        -o \"extract\\us-northeast_%y-07-01.osm.pbf\" ^\n",
    "        \"original\\us-northeast-internal-2024-10-10.osh.pbf\" ^\n",
    "        %y-07-01T00:00:00Z\n",
    "    \n",
    "    ECHO \"Extracting OSM data within the boundary\"\n",
    "    osmium extract ^\n",
    "        -p \"boundary\\new-york-city-boundary-wgs84.poly\" ^\n",
    "        -o \"extract\\nyc_%y-07-01.osm.pbf\" ^\n",
    "        -s complete_ways ^\n",
    "        \"extract\\us-northeast_%y-07-01.osm.pbf\"\n",
    ")\n",
    "```"
   ],
   "id": "4a1601b67b89c74b"
  }
 ],
 "metadata": {
  "kernelspec": {
   "display_name": "Python 3",
   "language": "python",
   "name": "python3"
  },
  "language_info": {
   "codemirror_mode": {
    "name": "ipython",
    "version": 2
   },
   "file_extension": ".py",
   "mimetype": "text/x-python",
   "name": "python",
   "nbconvert_exporter": "python",
   "pygments_lexer": "ipython2",
   "version": "2.7.6"
  }
 },
 "nbformat": 4,
 "nbformat_minor": 5
}
