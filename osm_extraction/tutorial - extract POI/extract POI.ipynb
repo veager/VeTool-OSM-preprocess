{
 "cells": [
  {
   "metadata": {},
   "cell_type": "markdown",
   "source": "Extract POIs from the OSM file",
   "id": "adbd3a85267fc53a"
  },
  {
   "metadata": {
    "ExecuteTime": {
     "end_time": "2024-11-29T09:26:42.318822Z",
     "start_time": "2024-11-29T09:26:37.604688Z"
    }
   },
   "cell_type": "code",
   "source": [
    "import pathlib\n",
    "\n",
    "import geopandas as gpd\n",
    "import pyrosm"
   ],
   "id": "11b9b6bf35ff8679",
   "outputs": [],
   "execution_count": 2
  },
  {
   "metadata": {},
   "cell_type": "code",
   "outputs": [],
   "execution_count": null,
   "source": "",
   "id": "88a4b267981a4aa3"
  }
 ],
 "metadata": {
  "kernelspec": {
   "display_name": "Python 3",
   "language": "python",
   "name": "python3"
  },
  "language_info": {
   "codemirror_mode": {
    "name": "ipython",
    "version": 2
   },
   "file_extension": ".py",
   "mimetype": "text/x-python",
   "name": "python",
   "nbconvert_exporter": "python",
   "pygments_lexer": "ipython2",
   "version": "2.7.6"
  }
 },
 "nbformat": 4,
 "nbformat_minor": 5
}
